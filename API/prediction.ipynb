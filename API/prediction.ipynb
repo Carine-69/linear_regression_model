{
  "cells": [
    {
      "cell_type": "code",
      "execution_count": 1,
      "metadata": {
        "id": "716Cn3llvSIj"
      },
      "outputs": [],
      "source": [
        "from fastapi import FastAPI\n",
        "from fastapi.middleware.cors import CORSMiddleware\n",
        "from pydantic import BaseModel, Field\n",
        "import joblib\n",
        "import pandas as pd\n",
        "import numpy as np\n",
        "# from google.colab import drive"
      ]
    },
    {
      "cell_type": "code",
      "execution_count": null,
      "metadata": {
        "colab": {
          "base_uri": "https://localhost:8080/"
        },
        "id": "ZrfQT8mA_2fg",
        "outputId": "d1dd72c6-7872-4968-8382-dc417cf12269"
      },
      "outputs": [
        {
          "name": "stdout",
          "output_type": "stream",
          "text": [
            "Mounted at /content/drive\n"
          ]
        }
      ],
      "source": [
        "# drive.mount('/content/drive')"
      ]
    },
    {
      "cell_type": "code",
      "execution_count": null,
      "metadata": {
        "id": "D94A3zBlwGLZ"
      },
      "outputs": [],
      "source": [
        "# load the best trained model\n",
        "model = joblib.load('best_model.pkl')"
      ]
    },
    {
      "cell_type": "code",
      "execution_count": 4,
      "metadata": {
        "id": "EmAI8o_LvaCS"
      },
      "outputs": [],
      "source": [
        "class GovernanceInput(BaseModel):\n",
        "    Q20: float = Field(..., ge=0, le=10, description=\"Trust in local government (0–10)\")\n",
        "    Q21A: float = Field(..., ge=0, le=10)\n",
        "    Q24: float = Field(..., ge=0, le=10)\n",
        "    Q34A: float = Field(..., ge=0, le=10)\n",
        "    Q26: float = Field(..., ge=0, le=10)\n",
        "    Q28: float = Field(..., ge=0, le=10)\n",
        "    Q32A: float = Field(..., ge=0, le=10)\n",
        "    Q32B: float = Field(..., ge=0, le=10)\n",
        "    Q48A: float = Field(..., ge=0, le=10)\n",
        "    Q48B: float = Field(..., ge=0, le=10)\n",
        "    Q50A: float = Field(..., ge=0, le=10)\n",
        "    Q50B: float = Field(..., ge=0, le=10)\n",
        "    Q50C: float = Field(..., ge=0, le=10)\n",
        "    Q51A: float = Field(..., ge=0, le=10)\n",
        "    Q51B: float = Field(..., ge=0, le=10)\n",
        "    Q53A: float = Field(..., ge=0, le=10)\n",
        "    Q53B: float = Field(..., ge=0, le=10)\n",
        "    Q53C: float = Field(..., ge=0, le=10)\n",
        "    Q35A: float = Field(..., ge=0, le=10)\n",
        "    Q36A: float = Field(..., ge=0, le=10)\n",
        "    Q38A: float = Field(..., ge=0, le=10)\n",
        "    Q38B: float = Field(..., ge=0, le=10)\n",
        "    Q38C: float = Field(..., ge=0, le=10)\n"
      ]
    },
    {
      "cell_type": "code",
      "execution_count": 5,
      "metadata": {
        "id": "rgs2UoiWvc6P"
      },
      "outputs": [],
      "source": [
        "app = FastAPI(\n",
        "    title = 'Governance Duration Prediction api',\n",
        "    description = 'prediction of the strength and duration of the governance based on survey feature from citizens',\n",
        ")\n"
      ]
    },
    {
      "cell_type": "code",
      "execution_count": 6,
      "metadata": {
        "id": "Js6116rXvhPf"
      },
      "outputs": [],
      "source": [
        "# define app to run on anything(add CORSmiddleware)\n",
        "app.add_middleware(\n",
        "    CORSMiddleware,\n",
        "    allow_origins=[\"*\"], # allow request from any domain\n",
        "    allow_credentials=True,  #allow cookies and headers\n",
        "    allow_methods=[\"*\"], # allow all http methods\n",
        "    allow_headers=[\"*\"], #allow any header\n",
        ")"
      ]
    },
    {
      "cell_type": "code",
      "execution_count": 8,
      "metadata": {},
      "outputs": [],
      "source": [
        "@app.get(\"/\")\n",
        "def read_root():\n",
        "    return {\"message\": \"Governance prediction API is live!\"}"
      ]
    },
    {
      "cell_type": "code",
      "execution_count": null,
      "metadata": {
        "id": "UvFjONSrvkUy"
      },
      "outputs": [],
      "source": [
        "# post the model( endpoint prediction)\n",
        "@app.post('/predict')\n",
        "def predict_governance(data:GovernanceInput):\n",
        "    # convert input  form pydantic data to list values\n",
        "    input_data = [[\n",
        "        data.Q20, data.Q21A, data.Q24, data.Q34A,\n",
        "        data.Q26, data.Q28,\n",
        "        data.Q32A, data.Q32B,\n",
        "        data.Q48A, data.Q48B,\n",
        "        data.Q50A, data.Q50B, data.Q50C,\n",
        "        data.Q51A, data.Q51B,\n",
        "        data.Q53A, data.Q53B, data.Q53C,\n",
        "        data.Q35A, data.Q36A,\n",
        "        data.Q38A, data.Q38B, data.Q38C\n",
        "    ]]\n",
        "    # predict and return it\n",
        "    prediction = model.predict(input_data)\n",
        "    return{\"Governement duration prediction\":prediction[0]}"
      ]
    }
  ],
  "metadata": {
    "colab": {
      "provenance": []
    },
    "kernelspec": {
      "display_name": "env",
      "language": "python",
      "name": "python3"
    },
    "language_info": {
      "codemirror_mode": {
        "name": "ipython",
        "version": 3
      },
      "file_extension": ".py",
      "mimetype": "text/x-python",
      "name": "python",
      "nbconvert_exporter": "python",
      "pygments_lexer": "ipython3",
      "version": "3.11.9"
    }
  },
  "nbformat": 4,
  "nbformat_minor": 0
}
